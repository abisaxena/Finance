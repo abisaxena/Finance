{
 "nbformat": 4,
 "nbformat_minor": 0,
 "metadata": {
  "colab": {
   "name": "GBM.ipynb",
   "provenance": [],
   "collapsed_sections": [],
   "authorship_tag": "ABX9TyNSM6kXhhwsOTpsuukt8nb5",
   "include_colab_link": true
  },
  "kernelspec": {
   "name": "python3",
   "display_name": "Python 3"
  },
  "language_info": {
   "name": "python"
  }
 },
 "cells": [
  {
   "cell_type": "markdown",
   "metadata": {
    "id": "view-in-github",
    "colab_type": "text"
   },
   "source": [
    "<a href=\"https://colab.research.google.com/github/abisaxena/Finance/blob/main/GBM.ipynb\" target=\"_parent\"><img src=\"https://colab.research.google.com/assets/colab-badge.svg\" alt=\"Open In Colab\"/></a>"
   ]
  },
  {
   "cell_type": "code",
   "execution_count": 8,
   "metadata": {
    "colab": {
     "base_uri": "https://localhost:8080/",
     "height": 265
    },
    "id": "jl5vFdXbHvdh",
    "outputId": "43973b86-2042-45c4-9afc-56988ac605c2"
   },
   "outputs": [
    {
     "ename": "ModuleNotFoundError",
     "evalue": "No module named 'matplotlib'",
     "output_type": "error",
     "traceback": [
      "\u001B[0;31m---------------------------------------------------------------------------\u001B[0m",
      "\u001B[0;31mModuleNotFoundError\u001B[0m                       Traceback (most recent call last)",
      "Input \u001B[0;32mIn [8]\u001B[0m, in \u001B[0;36m<cell line: 1>\u001B[0;34m()\u001B[0m\n\u001B[0;32m----> 1\u001B[0m \u001B[38;5;28;01mimport\u001B[39;00m \u001B[38;5;21;01mmatplotlib\u001B[39;00m\u001B[38;5;21;01m.\u001B[39;00m\u001B[38;5;21;01mpyplot\u001B[39;00m \u001B[38;5;28;01mas\u001B[39;00m \u001B[38;5;21;01mplt\u001B[39;00m\n\u001B[1;32m      2\u001B[0m \u001B[38;5;28;01mimport\u001B[39;00m \u001B[38;5;21;01mnumpy\u001B[39;00m \u001B[38;5;28;01mas\u001B[39;00m \u001B[38;5;21;01mnp\u001B[39;00m\n\u001B[1;32m      3\u001B[0m \u001B[38;5;28;01mimport\u001B[39;00m \u001B[38;5;21;01mmath\u001B[39;00m\n",
      "\u001B[0;31mModuleNotFoundError\u001B[0m: No module named 'matplotlib'"
     ]
    }
   ],
   "source": [
    "import matplotlib.pyplot as plt\n",
    "import numpy as np\n",
    "import math\n",
    "\n",
    "\n",
    "class GBM:\n",
    "\n",
    "    def simulate(self):\n",
    "        while(self.total_time > 0):\n",
    "            dS = self.current_price*self.drift*self.time_period + self.current_price*self.volatility*np.random.normal(0, math.sqrt(self.time_period))\n",
    "            self.prices.append(self.current_price + dS)\n",
    "            self.current_price += dS\n",
    "            self.total_time -= self.time_period\n",
    "\n",
    "    def __init__(self, initial_price, drift, volatility, time_period, total_time):\n",
    "        # Initialize fields\n",
    "        self.initial_price = initial_price\n",
    "        self.current_price = initial_price\n",
    "        self.drift = drift\n",
    "        self.volatility = volatility\n",
    "        self.time_period = time_period\n",
    "        self.total_time = total_time\n",
    "        self.prices = []\n",
    "        # Simulate the diffusion process\n",
    "        self.simulate()   # Simulate the diffusion proces\n",
    "\n",
    "simulations = []\n",
    "n = 1000\n",
    "initial_price = 500\n",
    "drift = .24\n",
    "volatility = .4\n",
    "time_period = 1/365 # Daily\n",
    "total_time = 1\n",
    "\n",
    "for i in range(0, n):\n",
    "    simulations.append(GBM(initial_price, drift, volatility, time_period, total_time))\n",
    "\n",
    "for sim in simulations:\n",
    "    plt.plot(np.arange(0, len(sim.prices)), sim.prices)\n",
    "\n",
    "plt.show()"
   ]
  }
 ]
}
